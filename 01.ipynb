{
 "metadata": {
  "language_info": {
   "codemirror_mode": {
    "name": "ipython",
    "version": 3
   },
   "file_extension": ".py",
   "mimetype": "text/x-python",
   "name": "python",
   "nbconvert_exporter": "python",
   "pygments_lexer": "ipython3",
   "version": "3.9.0-final"
  },
  "orig_nbformat": 2,
  "kernelspec": {
   "name": "python3",
   "display_name": "Python 3.9.0 64-bit",
   "metadata": {
    "interpreter": {
     "hash": "19e0d11a9e689f0572bda55b7f6995a9bc8c02ec56b5c9b6a416150ade6ab1a3"
    }
   }
  }
 },
 "nbformat": 4,
 "nbformat_minor": 2,
 "cells": [
  {
   "cell_type": "code",
   "execution_count": 8,
   "metadata": {},
   "outputs": [],
   "source": [
    "%matplotlib inline\n",
    "\n",
    "import pandas as pd"
   ]
  },
  {
   "source": [
    "## OECD"
   ],
   "cell_type": "markdown",
   "metadata": {}
  },
  {
   "cell_type": "code",
   "execution_count": 13,
   "metadata": {},
   "outputs": [],
   "source": [
    "oecd = pd.read_csv(\"./datasets/lifesat/oecd_bli_2015.csv\", thousands=\",\")"
   ]
  },
  {
   "cell_type": "code",
   "execution_count": 14,
   "metadata": {},
   "outputs": [
    {
     "output_type": "execute_result",
     "data": {
      "text/plain": [
       "  LOCATION         Country INDICATOR                           Indicator  \\\n",
       "0      AUS       Australia   HO_BASE  Dwellings without basic facilities   \n",
       "1      AUT         Austria   HO_BASE  Dwellings without basic facilities   \n",
       "2      BEL         Belgium   HO_BASE  Dwellings without basic facilities   \n",
       "3      CAN          Canada   HO_BASE  Dwellings without basic facilities   \n",
       "4      CZE  Czech Republic   HO_BASE  Dwellings without basic facilities   \n",
       "\n",
       "  MEASURE Measure INEQUALITY Inequality Unit Code        Unit  PowerCode Code  \\\n",
       "0       L   Value        TOT      Total        PC  Percentage               0   \n",
       "1       L   Value        TOT      Total        PC  Percentage               0   \n",
       "2       L   Value        TOT      Total        PC  Percentage               0   \n",
       "3       L   Value        TOT      Total        PC  Percentage               0   \n",
       "4       L   Value        TOT      Total        PC  Percentage               0   \n",
       "\n",
       "  PowerCode  Reference Period Code  Reference Period  Value Flag Codes  \\\n",
       "0     units                    NaN               NaN    1.1          E   \n",
       "1     units                    NaN               NaN    1.0        NaN   \n",
       "2     units                    NaN               NaN    2.0        NaN   \n",
       "3     units                    NaN               NaN    0.2        NaN   \n",
       "4     units                    NaN               NaN    0.9        NaN   \n",
       "\n",
       "             Flags  \n",
       "0  Estimated value  \n",
       "1              NaN  \n",
       "2              NaN  \n",
       "3              NaN  \n",
       "4              NaN  "
      ],
      "text/html": "<div>\n<style scoped>\n    .dataframe tbody tr th:only-of-type {\n        vertical-align: middle;\n    }\n\n    .dataframe tbody tr th {\n        vertical-align: top;\n    }\n\n    .dataframe thead th {\n        text-align: right;\n    }\n</style>\n<table border=\"1\" class=\"dataframe\">\n  <thead>\n    <tr style=\"text-align: right;\">\n      <th></th>\n      <th>LOCATION</th>\n      <th>Country</th>\n      <th>INDICATOR</th>\n      <th>Indicator</th>\n      <th>MEASURE</th>\n      <th>Measure</th>\n      <th>INEQUALITY</th>\n      <th>Inequality</th>\n      <th>Unit Code</th>\n      <th>Unit</th>\n      <th>PowerCode Code</th>\n      <th>PowerCode</th>\n      <th>Reference Period Code</th>\n      <th>Reference Period</th>\n      <th>Value</th>\n      <th>Flag Codes</th>\n      <th>Flags</th>\n    </tr>\n  </thead>\n  <tbody>\n    <tr>\n      <th>0</th>\n      <td>AUS</td>\n      <td>Australia</td>\n      <td>HO_BASE</td>\n      <td>Dwellings without basic facilities</td>\n      <td>L</td>\n      <td>Value</td>\n      <td>TOT</td>\n      <td>Total</td>\n      <td>PC</td>\n      <td>Percentage</td>\n      <td>0</td>\n      <td>units</td>\n      <td>NaN</td>\n      <td>NaN</td>\n      <td>1.1</td>\n      <td>E</td>\n      <td>Estimated value</td>\n    </tr>\n    <tr>\n      <th>1</th>\n      <td>AUT</td>\n      <td>Austria</td>\n      <td>HO_BASE</td>\n      <td>Dwellings without basic facilities</td>\n      <td>L</td>\n      <td>Value</td>\n      <td>TOT</td>\n      <td>Total</td>\n      <td>PC</td>\n      <td>Percentage</td>\n      <td>0</td>\n      <td>units</td>\n      <td>NaN</td>\n      <td>NaN</td>\n      <td>1.0</td>\n      <td>NaN</td>\n      <td>NaN</td>\n    </tr>\n    <tr>\n      <th>2</th>\n      <td>BEL</td>\n      <td>Belgium</td>\n      <td>HO_BASE</td>\n      <td>Dwellings without basic facilities</td>\n      <td>L</td>\n      <td>Value</td>\n      <td>TOT</td>\n      <td>Total</td>\n      <td>PC</td>\n      <td>Percentage</td>\n      <td>0</td>\n      <td>units</td>\n      <td>NaN</td>\n      <td>NaN</td>\n      <td>2.0</td>\n      <td>NaN</td>\n      <td>NaN</td>\n    </tr>\n    <tr>\n      <th>3</th>\n      <td>CAN</td>\n      <td>Canada</td>\n      <td>HO_BASE</td>\n      <td>Dwellings without basic facilities</td>\n      <td>L</td>\n      <td>Value</td>\n      <td>TOT</td>\n      <td>Total</td>\n      <td>PC</td>\n      <td>Percentage</td>\n      <td>0</td>\n      <td>units</td>\n      <td>NaN</td>\n      <td>NaN</td>\n      <td>0.2</td>\n      <td>NaN</td>\n      <td>NaN</td>\n    </tr>\n    <tr>\n      <th>4</th>\n      <td>CZE</td>\n      <td>Czech Republic</td>\n      <td>HO_BASE</td>\n      <td>Dwellings without basic facilities</td>\n      <td>L</td>\n      <td>Value</td>\n      <td>TOT</td>\n      <td>Total</td>\n      <td>PC</td>\n      <td>Percentage</td>\n      <td>0</td>\n      <td>units</td>\n      <td>NaN</td>\n      <td>NaN</td>\n      <td>0.9</td>\n      <td>NaN</td>\n      <td>NaN</td>\n    </tr>\n  </tbody>\n</table>\n</div>"
     },
     "metadata": {},
     "execution_count": 14
    }
   ],
   "source": [
    "oecd.head()"
   ]
  },
  {
   "cell_type": "code",
   "execution_count": 15,
   "metadata": {},
   "outputs": [
    {
     "output_type": "stream",
     "name": "stdout",
     "text": [
      "<class 'pandas.core.frame.DataFrame'>\nRangeIndex: 3292 entries, 0 to 3291\nData columns (total 17 columns):\n #   Column                 Non-Null Count  Dtype  \n---  ------                 --------------  -----  \n 0   LOCATION               3292 non-null   object \n 1   Country                3292 non-null   object \n 2   INDICATOR              3292 non-null   object \n 3   Indicator              3292 non-null   object \n 4   MEASURE                3292 non-null   object \n 5   Measure                3292 non-null   object \n 6   INEQUALITY             3292 non-null   object \n 7   Inequality             3292 non-null   object \n 8   Unit Code              3292 non-null   object \n 9   Unit                   3292 non-null   object \n 10  PowerCode Code         3292 non-null   int64  \n 11  PowerCode              3292 non-null   object \n 12  Reference Period Code  0 non-null      float64\n 13  Reference Period       0 non-null      float64\n 14  Value                  3292 non-null   float64\n 15  Flag Codes             1120 non-null   object \n 16  Flags                  1120 non-null   object \ndtypes: float64(3), int64(1), object(13)\nmemory usage: 437.3+ KB\n"
     ]
    }
   ],
   "source": [
    "oecd.info()"
   ]
  },
  {
   "cell_type": "code",
   "execution_count": 16,
   "metadata": {},
   "outputs": [
    {
     "output_type": "execute_result",
     "data": {
      "text/plain": [
       "Total    888\n",
       "Men      881\n",
       "Women    881\n",
       "High     328\n",
       "Low      314\n",
       "Name: Inequality, dtype: int64"
      ]
     },
     "metadata": {},
     "execution_count": 16
    }
   ],
   "source": [
    "oecd[\"Inequality\"].value_counts()"
   ]
  },
  {
   "cell_type": "code",
   "execution_count": 17,
   "metadata": {},
   "outputs": [
    {
     "output_type": "execute_result",
     "data": {
      "text/plain": [
       "TOT    888\n",
       "MN     881\n",
       "WMN    881\n",
       "HGH    328\n",
       "LW     314\n",
       "Name: INEQUALITY, dtype: int64"
      ]
     },
     "metadata": {},
     "execution_count": 17
    }
   ],
   "source": [
    "oecd[\"INEQUALITY\"].value_counts()"
   ]
  },
  {
   "cell_type": "code",
   "execution_count": 18,
   "metadata": {},
   "outputs": [
    {
     "output_type": "execute_result",
     "data": {
      "text/plain": [
       "  LOCATION         Country INDICATOR                           Indicator  \\\n",
       "0      AUS       Australia   HO_BASE  Dwellings without basic facilities   \n",
       "1      AUT         Austria   HO_BASE  Dwellings without basic facilities   \n",
       "2      BEL         Belgium   HO_BASE  Dwellings without basic facilities   \n",
       "3      CAN          Canada   HO_BASE  Dwellings without basic facilities   \n",
       "4      CZE  Czech Republic   HO_BASE  Dwellings without basic facilities   \n",
       "\n",
       "  MEASURE Measure INEQUALITY Inequality Unit Code        Unit  PowerCode Code  \\\n",
       "0       L   Value        TOT      Total        PC  Percentage               0   \n",
       "1       L   Value        TOT      Total        PC  Percentage               0   \n",
       "2       L   Value        TOT      Total        PC  Percentage               0   \n",
       "3       L   Value        TOT      Total        PC  Percentage               0   \n",
       "4       L   Value        TOT      Total        PC  Percentage               0   \n",
       "\n",
       "  PowerCode  Reference Period Code  Reference Period  Value Flag Codes  \\\n",
       "0     units                    NaN               NaN    1.1          E   \n",
       "1     units                    NaN               NaN    1.0        NaN   \n",
       "2     units                    NaN               NaN    2.0        NaN   \n",
       "3     units                    NaN               NaN    0.2        NaN   \n",
       "4     units                    NaN               NaN    0.9        NaN   \n",
       "\n",
       "             Flags  \n",
       "0  Estimated value  \n",
       "1              NaN  \n",
       "2              NaN  \n",
       "3              NaN  \n",
       "4              NaN  "
      ],
      "text/html": "<div>\n<style scoped>\n    .dataframe tbody tr th:only-of-type {\n        vertical-align: middle;\n    }\n\n    .dataframe tbody tr th {\n        vertical-align: top;\n    }\n\n    .dataframe thead th {\n        text-align: right;\n    }\n</style>\n<table border=\"1\" class=\"dataframe\">\n  <thead>\n    <tr style=\"text-align: right;\">\n      <th></th>\n      <th>LOCATION</th>\n      <th>Country</th>\n      <th>INDICATOR</th>\n      <th>Indicator</th>\n      <th>MEASURE</th>\n      <th>Measure</th>\n      <th>INEQUALITY</th>\n      <th>Inequality</th>\n      <th>Unit Code</th>\n      <th>Unit</th>\n      <th>PowerCode Code</th>\n      <th>PowerCode</th>\n      <th>Reference Period Code</th>\n      <th>Reference Period</th>\n      <th>Value</th>\n      <th>Flag Codes</th>\n      <th>Flags</th>\n    </tr>\n  </thead>\n  <tbody>\n    <tr>\n      <th>0</th>\n      <td>AUS</td>\n      <td>Australia</td>\n      <td>HO_BASE</td>\n      <td>Dwellings without basic facilities</td>\n      <td>L</td>\n      <td>Value</td>\n      <td>TOT</td>\n      <td>Total</td>\n      <td>PC</td>\n      <td>Percentage</td>\n      <td>0</td>\n      <td>units</td>\n      <td>NaN</td>\n      <td>NaN</td>\n      <td>1.1</td>\n      <td>E</td>\n      <td>Estimated value</td>\n    </tr>\n    <tr>\n      <th>1</th>\n      <td>AUT</td>\n      <td>Austria</td>\n      <td>HO_BASE</td>\n      <td>Dwellings without basic facilities</td>\n      <td>L</td>\n      <td>Value</td>\n      <td>TOT</td>\n      <td>Total</td>\n      <td>PC</td>\n      <td>Percentage</td>\n      <td>0</td>\n      <td>units</td>\n      <td>NaN</td>\n      <td>NaN</td>\n      <td>1.0</td>\n      <td>NaN</td>\n      <td>NaN</td>\n    </tr>\n    <tr>\n      <th>2</th>\n      <td>BEL</td>\n      <td>Belgium</td>\n      <td>HO_BASE</td>\n      <td>Dwellings without basic facilities</td>\n      <td>L</td>\n      <td>Value</td>\n      <td>TOT</td>\n      <td>Total</td>\n      <td>PC</td>\n      <td>Percentage</td>\n      <td>0</td>\n      <td>units</td>\n      <td>NaN</td>\n      <td>NaN</td>\n      <td>2.0</td>\n      <td>NaN</td>\n      <td>NaN</td>\n    </tr>\n    <tr>\n      <th>3</th>\n      <td>CAN</td>\n      <td>Canada</td>\n      <td>HO_BASE</td>\n      <td>Dwellings without basic facilities</td>\n      <td>L</td>\n      <td>Value</td>\n      <td>TOT</td>\n      <td>Total</td>\n      <td>PC</td>\n      <td>Percentage</td>\n      <td>0</td>\n      <td>units</td>\n      <td>NaN</td>\n      <td>NaN</td>\n      <td>0.2</td>\n      <td>NaN</td>\n      <td>NaN</td>\n    </tr>\n    <tr>\n      <th>4</th>\n      <td>CZE</td>\n      <td>Czech Republic</td>\n      <td>HO_BASE</td>\n      <td>Dwellings without basic facilities</td>\n      <td>L</td>\n      <td>Value</td>\n      <td>TOT</td>\n      <td>Total</td>\n      <td>PC</td>\n      <td>Percentage</td>\n      <td>0</td>\n      <td>units</td>\n      <td>NaN</td>\n      <td>NaN</td>\n      <td>0.9</td>\n      <td>NaN</td>\n      <td>NaN</td>\n    </tr>\n  </tbody>\n</table>\n</div>"
     },
     "metadata": {},
     "execution_count": 18
    }
   ],
   "source": [
    "oecd = oecd[oecd[\"INEQUALITY\"]==\"TOT\"]\n",
    "oecd.head()"
   ]
  },
  {
   "cell_type": "code",
   "execution_count": 34,
   "metadata": {},
   "outputs": [
    {
     "output_type": "execute_result",
     "data": {
      "text/plain": [
       "Indicator  Air pollution  Assault rate  Consultation on rule-making  \\\n",
       "Country                                                               \n",
       "Australia           13.0           2.1                         10.5   \n",
       "Austria             27.0           3.4                          7.1   \n",
       "Belgium             21.0           6.6                          4.5   \n",
       "Brazil              18.0           7.9                          4.0   \n",
       "Canada              15.0           1.3                         10.5   \n",
       "\n",
       "Indicator  Dwellings without basic facilities  Educational attainment  \\\n",
       "Country                                                                 \n",
       "Australia                                 1.1                    76.0   \n",
       "Austria                                   1.0                    83.0   \n",
       "Belgium                                   2.0                    72.0   \n",
       "Brazil                                    6.7                    45.0   \n",
       "Canada                                    0.2                    89.0   \n",
       "\n",
       "Indicator  Employees working very long hours  Employment rate  Homicide rate  \\\n",
       "Country                                                                        \n",
       "Australia                              14.02             72.0            0.8   \n",
       "Austria                                 7.61             72.0            0.4   \n",
       "Belgium                                 4.57             62.0            1.1   \n",
       "Brazil                                 10.41             67.0           25.5   \n",
       "Canada                                  3.94             72.0            1.5   \n",
       "\n",
       "Indicator  Household net adjusted disposable income  \\\n",
       "Country                                               \n",
       "Australia                                   31588.0   \n",
       "Austria                                     31173.0   \n",
       "Belgium                                     28307.0   \n",
       "Brazil                                      11664.0   \n",
       "Canada                                      29365.0   \n",
       "\n",
       "Indicator  Household net financial wealth  ...  Long-term unemployment rate  \\\n",
       "Country                                    ...                                \n",
       "Australia                         47657.0  ...                         1.08   \n",
       "Austria                           49887.0  ...                         1.19   \n",
       "Belgium                           83876.0  ...                         3.88   \n",
       "Brazil                             6844.0  ...                         1.97   \n",
       "Canada                            67913.0  ...                         0.90   \n",
       "\n",
       "Indicator  Personal earnings  Quality of support network  Rooms per person  \\\n",
       "Country                                                                      \n",
       "Australia            50449.0                        92.0               2.3   \n",
       "Austria              45199.0                        89.0               1.6   \n",
       "Belgium              48082.0                        94.0               2.2   \n",
       "Brazil               17177.0                        90.0               1.6   \n",
       "Canada               46911.0                        92.0               2.5   \n",
       "\n",
       "Indicator  Self-reported health  Student skills  \\\n",
       "Country                                           \n",
       "Australia                  85.0           512.0   \n",
       "Austria                    69.0           500.0   \n",
       "Belgium                    74.0           509.0   \n",
       "Brazil                     69.0           402.0   \n",
       "Canada                     89.0           522.0   \n",
       "\n",
       "Indicator  Time devoted to leisure and personal care  Voter turnout  \\\n",
       "Country                                                               \n",
       "Australia                                      14.41           93.0   \n",
       "Austria                                        14.46           75.0   \n",
       "Belgium                                        15.71           89.0   \n",
       "Brazil                                         14.97           79.0   \n",
       "Canada                                         14.25           61.0   \n",
       "\n",
       "Indicator  Water quality  Years in education  \n",
       "Country                                       \n",
       "Australia           91.0                19.4  \n",
       "Austria             94.0                17.0  \n",
       "Belgium             87.0                18.9  \n",
       "Brazil              72.0                16.3  \n",
       "Canada              91.0                17.2  \n",
       "\n",
       "[5 rows x 24 columns]"
      ],
      "text/html": "<div>\n<style scoped>\n    .dataframe tbody tr th:only-of-type {\n        vertical-align: middle;\n    }\n\n    .dataframe tbody tr th {\n        vertical-align: top;\n    }\n\n    .dataframe thead th {\n        text-align: right;\n    }\n</style>\n<table border=\"1\" class=\"dataframe\">\n  <thead>\n    <tr style=\"text-align: right;\">\n      <th>Indicator</th>\n      <th>Air pollution</th>\n      <th>Assault rate</th>\n      <th>Consultation on rule-making</th>\n      <th>Dwellings without basic facilities</th>\n      <th>Educational attainment</th>\n      <th>Employees working very long hours</th>\n      <th>Employment rate</th>\n      <th>Homicide rate</th>\n      <th>Household net adjusted disposable income</th>\n      <th>Household net financial wealth</th>\n      <th>...</th>\n      <th>Long-term unemployment rate</th>\n      <th>Personal earnings</th>\n      <th>Quality of support network</th>\n      <th>Rooms per person</th>\n      <th>Self-reported health</th>\n      <th>Student skills</th>\n      <th>Time devoted to leisure and personal care</th>\n      <th>Voter turnout</th>\n      <th>Water quality</th>\n      <th>Years in education</th>\n    </tr>\n    <tr>\n      <th>Country</th>\n      <th></th>\n      <th></th>\n      <th></th>\n      <th></th>\n      <th></th>\n      <th></th>\n      <th></th>\n      <th></th>\n      <th></th>\n      <th></th>\n      <th></th>\n      <th></th>\n      <th></th>\n      <th></th>\n      <th></th>\n      <th></th>\n      <th></th>\n      <th></th>\n      <th></th>\n      <th></th>\n      <th></th>\n    </tr>\n  </thead>\n  <tbody>\n    <tr>\n      <th>Australia</th>\n      <td>13.0</td>\n      <td>2.1</td>\n      <td>10.5</td>\n      <td>1.1</td>\n      <td>76.0</td>\n      <td>14.02</td>\n      <td>72.0</td>\n      <td>0.8</td>\n      <td>31588.0</td>\n      <td>47657.0</td>\n      <td>...</td>\n      <td>1.08</td>\n      <td>50449.0</td>\n      <td>92.0</td>\n      <td>2.3</td>\n      <td>85.0</td>\n      <td>512.0</td>\n      <td>14.41</td>\n      <td>93.0</td>\n      <td>91.0</td>\n      <td>19.4</td>\n    </tr>\n    <tr>\n      <th>Austria</th>\n      <td>27.0</td>\n      <td>3.4</td>\n      <td>7.1</td>\n      <td>1.0</td>\n      <td>83.0</td>\n      <td>7.61</td>\n      <td>72.0</td>\n      <td>0.4</td>\n      <td>31173.0</td>\n      <td>49887.0</td>\n      <td>...</td>\n      <td>1.19</td>\n      <td>45199.0</td>\n      <td>89.0</td>\n      <td>1.6</td>\n      <td>69.0</td>\n      <td>500.0</td>\n      <td>14.46</td>\n      <td>75.0</td>\n      <td>94.0</td>\n      <td>17.0</td>\n    </tr>\n    <tr>\n      <th>Belgium</th>\n      <td>21.0</td>\n      <td>6.6</td>\n      <td>4.5</td>\n      <td>2.0</td>\n      <td>72.0</td>\n      <td>4.57</td>\n      <td>62.0</td>\n      <td>1.1</td>\n      <td>28307.0</td>\n      <td>83876.0</td>\n      <td>...</td>\n      <td>3.88</td>\n      <td>48082.0</td>\n      <td>94.0</td>\n      <td>2.2</td>\n      <td>74.0</td>\n      <td>509.0</td>\n      <td>15.71</td>\n      <td>89.0</td>\n      <td>87.0</td>\n      <td>18.9</td>\n    </tr>\n    <tr>\n      <th>Brazil</th>\n      <td>18.0</td>\n      <td>7.9</td>\n      <td>4.0</td>\n      <td>6.7</td>\n      <td>45.0</td>\n      <td>10.41</td>\n      <td>67.0</td>\n      <td>25.5</td>\n      <td>11664.0</td>\n      <td>6844.0</td>\n      <td>...</td>\n      <td>1.97</td>\n      <td>17177.0</td>\n      <td>90.0</td>\n      <td>1.6</td>\n      <td>69.0</td>\n      <td>402.0</td>\n      <td>14.97</td>\n      <td>79.0</td>\n      <td>72.0</td>\n      <td>16.3</td>\n    </tr>\n    <tr>\n      <th>Canada</th>\n      <td>15.0</td>\n      <td>1.3</td>\n      <td>10.5</td>\n      <td>0.2</td>\n      <td>89.0</td>\n      <td>3.94</td>\n      <td>72.0</td>\n      <td>1.5</td>\n      <td>29365.0</td>\n      <td>67913.0</td>\n      <td>...</td>\n      <td>0.90</td>\n      <td>46911.0</td>\n      <td>92.0</td>\n      <td>2.5</td>\n      <td>89.0</td>\n      <td>522.0</td>\n      <td>14.25</td>\n      <td>61.0</td>\n      <td>91.0</td>\n      <td>17.2</td>\n    </tr>\n  </tbody>\n</table>\n<p>5 rows × 24 columns</p>\n</div>"
     },
     "metadata": {},
     "execution_count": 34
    }
   ],
   "source": [
    "oecd = oecd.pivot(index=\"Country\", columns=\"Indicator\", values=\"Value\")\n",
    "oecd.head()"
   ]
  },
  {
   "source": [
    "# GDP"
   ],
   "cell_type": "markdown",
   "metadata": {}
  },
  {
   "cell_type": "code",
   "execution_count": 23,
   "metadata": {},
   "outputs": [],
   "source": [
    "gdp = pd.read_csv(\"./datasets/lifesat/gdp_per_capita.csv\",thousands=\",\",delimiter=\"\\t\",encoding=\"latin1\")"
   ]
  },
  {
   "cell_type": "code",
   "execution_count": 25,
   "metadata": {},
   "outputs": [
    {
     "output_type": "execute_result",
     "data": {
      "text/plain": [
       "               Country                                 Subject Descriptor  \\\n",
       "0          Afghanistan  Gross domestic product per capita, current prices   \n",
       "1              Albania  Gross domestic product per capita, current prices   \n",
       "2              Algeria  Gross domestic product per capita, current prices   \n",
       "3               Angola  Gross domestic product per capita, current prices   \n",
       "4  Antigua and Barbuda  Gross domestic product per capita, current prices   \n",
       "\n",
       "          Units  Scale                      Country/Series-specific Notes  \\\n",
       "0  U.S. dollars  Units  See notes for:  Gross domestic product, curren...   \n",
       "1  U.S. dollars  Units  See notes for:  Gross domestic product, curren...   \n",
       "2  U.S. dollars  Units  See notes for:  Gross domestic product, curren...   \n",
       "3  U.S. dollars  Units  See notes for:  Gross domestic product, curren...   \n",
       "4  U.S. dollars  Units  See notes for:  Gross domestic product, curren...   \n",
       "\n",
       "        2015  Estimates Start After  \n",
       "0    599.994                 2013.0  \n",
       "1   3995.383                 2010.0  \n",
       "2   4318.135                 2014.0  \n",
       "3   4100.315                 2014.0  \n",
       "4  14414.302                 2011.0  "
      ],
      "text/html": "<div>\n<style scoped>\n    .dataframe tbody tr th:only-of-type {\n        vertical-align: middle;\n    }\n\n    .dataframe tbody tr th {\n        vertical-align: top;\n    }\n\n    .dataframe thead th {\n        text-align: right;\n    }\n</style>\n<table border=\"1\" class=\"dataframe\">\n  <thead>\n    <tr style=\"text-align: right;\">\n      <th></th>\n      <th>Country</th>\n      <th>Subject Descriptor</th>\n      <th>Units</th>\n      <th>Scale</th>\n      <th>Country/Series-specific Notes</th>\n      <th>2015</th>\n      <th>Estimates Start After</th>\n    </tr>\n  </thead>\n  <tbody>\n    <tr>\n      <th>0</th>\n      <td>Afghanistan</td>\n      <td>Gross domestic product per capita, current prices</td>\n      <td>U.S. dollars</td>\n      <td>Units</td>\n      <td>See notes for:  Gross domestic product, curren...</td>\n      <td>599.994</td>\n      <td>2013.0</td>\n    </tr>\n    <tr>\n      <th>1</th>\n      <td>Albania</td>\n      <td>Gross domestic product per capita, current prices</td>\n      <td>U.S. dollars</td>\n      <td>Units</td>\n      <td>See notes for:  Gross domestic product, curren...</td>\n      <td>3995.383</td>\n      <td>2010.0</td>\n    </tr>\n    <tr>\n      <th>2</th>\n      <td>Algeria</td>\n      <td>Gross domestic product per capita, current prices</td>\n      <td>U.S. dollars</td>\n      <td>Units</td>\n      <td>See notes for:  Gross domestic product, curren...</td>\n      <td>4318.135</td>\n      <td>2014.0</td>\n    </tr>\n    <tr>\n      <th>3</th>\n      <td>Angola</td>\n      <td>Gross domestic product per capita, current prices</td>\n      <td>U.S. dollars</td>\n      <td>Units</td>\n      <td>See notes for:  Gross domestic product, curren...</td>\n      <td>4100.315</td>\n      <td>2014.0</td>\n    </tr>\n    <tr>\n      <th>4</th>\n      <td>Antigua and Barbuda</td>\n      <td>Gross domestic product per capita, current prices</td>\n      <td>U.S. dollars</td>\n      <td>Units</td>\n      <td>See notes for:  Gross domestic product, curren...</td>\n      <td>14414.302</td>\n      <td>2011.0</td>\n    </tr>\n  </tbody>\n</table>\n</div>"
     },
     "metadata": {},
     "execution_count": 25
    }
   ],
   "source": [
    "gdp.head()"
   ]
  },
  {
   "cell_type": "code",
   "execution_count": 26,
   "metadata": {},
   "outputs": [
    {
     "output_type": "stream",
     "name": "stdout",
     "text": [
      "<class 'pandas.core.frame.DataFrame'>\nRangeIndex: 190 entries, 0 to 189\nData columns (total 7 columns):\n #   Column                         Non-Null Count  Dtype  \n---  ------                         --------------  -----  \n 0   Country                        190 non-null    object \n 1   Subject Descriptor             189 non-null    object \n 2   Units                          189 non-null    object \n 3   Scale                          189 non-null    object \n 4   Country/Series-specific Notes  188 non-null    object \n 5   2015                           187 non-null    float64\n 6   Estimates Start After          188 non-null    float64\ndtypes: float64(2), object(5)\nmemory usage: 10.5+ KB\n"
     ]
    }
   ],
   "source": [
    "gdp.info()"
   ]
  },
  {
   "cell_type": "code",
   "execution_count": 28,
   "metadata": {},
   "outputs": [],
   "source": [
    "# 改名\n",
    "gdp.rename(columns={\"2015\": \"gdp per capita\"}, inplace=True)"
   ]
  },
  {
   "cell_type": "code",
   "execution_count": 30,
   "metadata": {},
   "outputs": [],
   "source": [
    "# 将国家名作为索引\n",
    "gdp.set_index(\"Country\", inplace=True)"
   ]
  },
  {
   "cell_type": "code",
   "execution_count": 32,
   "metadata": {},
   "outputs": [
    {
     "output_type": "execute_result",
     "data": {
      "text/plain": [
       "                                                    Subject Descriptor  \\\n",
       "Country                                                                  \n",
       "Afghanistan          Gross domestic product per capita, current prices   \n",
       "Albania              Gross domestic product per capita, current prices   \n",
       "Algeria              Gross domestic product per capita, current prices   \n",
       "Angola               Gross domestic product per capita, current prices   \n",
       "Antigua and Barbuda  Gross domestic product per capita, current prices   \n",
       "\n",
       "                            Units  Scale  \\\n",
       "Country                                    \n",
       "Afghanistan          U.S. dollars  Units   \n",
       "Albania              U.S. dollars  Units   \n",
       "Algeria              U.S. dollars  Units   \n",
       "Angola               U.S. dollars  Units   \n",
       "Antigua and Barbuda  U.S. dollars  Units   \n",
       "\n",
       "                                         Country/Series-specific Notes  \\\n",
       "Country                                                                  \n",
       "Afghanistan          See notes for:  Gross domestic product, curren...   \n",
       "Albania              See notes for:  Gross domestic product, curren...   \n",
       "Algeria              See notes for:  Gross domestic product, curren...   \n",
       "Angola               See notes for:  Gross domestic product, curren...   \n",
       "Antigua and Barbuda  See notes for:  Gross domestic product, curren...   \n",
       "\n",
       "                     gdp per capita  Estimates Start After  \n",
       "Country                                                     \n",
       "Afghanistan                 599.994                 2013.0  \n",
       "Albania                    3995.383                 2010.0  \n",
       "Algeria                    4318.135                 2014.0  \n",
       "Angola                     4100.315                 2014.0  \n",
       "Antigua and Barbuda       14414.302                 2011.0  "
      ],
      "text/html": "<div>\n<style scoped>\n    .dataframe tbody tr th:only-of-type {\n        vertical-align: middle;\n    }\n\n    .dataframe tbody tr th {\n        vertical-align: top;\n    }\n\n    .dataframe thead th {\n        text-align: right;\n    }\n</style>\n<table border=\"1\" class=\"dataframe\">\n  <thead>\n    <tr style=\"text-align: right;\">\n      <th></th>\n      <th>Subject Descriptor</th>\n      <th>Units</th>\n      <th>Scale</th>\n      <th>Country/Series-specific Notes</th>\n      <th>gdp per capita</th>\n      <th>Estimates Start After</th>\n    </tr>\n    <tr>\n      <th>Country</th>\n      <th></th>\n      <th></th>\n      <th></th>\n      <th></th>\n      <th></th>\n      <th></th>\n    </tr>\n  </thead>\n  <tbody>\n    <tr>\n      <th>Afghanistan</th>\n      <td>Gross domestic product per capita, current prices</td>\n      <td>U.S. dollars</td>\n      <td>Units</td>\n      <td>See notes for:  Gross domestic product, curren...</td>\n      <td>599.994</td>\n      <td>2013.0</td>\n    </tr>\n    <tr>\n      <th>Albania</th>\n      <td>Gross domestic product per capita, current prices</td>\n      <td>U.S. dollars</td>\n      <td>Units</td>\n      <td>See notes for:  Gross domestic product, curren...</td>\n      <td>3995.383</td>\n      <td>2010.0</td>\n    </tr>\n    <tr>\n      <th>Algeria</th>\n      <td>Gross domestic product per capita, current prices</td>\n      <td>U.S. dollars</td>\n      <td>Units</td>\n      <td>See notes for:  Gross domestic product, curren...</td>\n      <td>4318.135</td>\n      <td>2014.0</td>\n    </tr>\n    <tr>\n      <th>Angola</th>\n      <td>Gross domestic product per capita, current prices</td>\n      <td>U.S. dollars</td>\n      <td>Units</td>\n      <td>See notes for:  Gross domestic product, curren...</td>\n      <td>4100.315</td>\n      <td>2014.0</td>\n    </tr>\n    <tr>\n      <th>Antigua and Barbuda</th>\n      <td>Gross domestic product per capita, current prices</td>\n      <td>U.S. dollars</td>\n      <td>Units</td>\n      <td>See notes for:  Gross domestic product, curren...</td>\n      <td>14414.302</td>\n      <td>2011.0</td>\n    </tr>\n  </tbody>\n</table>\n</div>"
     },
     "metadata": {},
     "execution_count": 32
    }
   ],
   "source": [
    "gdp.head()"
   ]
  },
  {
   "source": [
    "# 数据整合"
   ],
   "cell_type": "markdown",
   "metadata": {}
  },
  {
   "cell_type": "code",
   "execution_count": 39,
   "metadata": {},
   "outputs": [
    {
     "output_type": "execute_result",
     "data": {
      "text/plain": [
       "           Air pollution  Assault rate  Consultation on rule-making  \\\n",
       "Country                                                               \n",
       "Australia           13.0           2.1                         10.5   \n",
       "Austria             27.0           3.4                          7.1   \n",
       "Belgium             21.0           6.6                          4.5   \n",
       "Brazil              18.0           7.9                          4.0   \n",
       "Canada              15.0           1.3                         10.5   \n",
       "\n",
       "           Dwellings without basic facilities  Educational attainment  \\\n",
       "Country                                                                 \n",
       "Australia                                 1.1                    76.0   \n",
       "Austria                                   1.0                    83.0   \n",
       "Belgium                                   2.0                    72.0   \n",
       "Brazil                                    6.7                    45.0   \n",
       "Canada                                    0.2                    89.0   \n",
       "\n",
       "           Employees working very long hours  Employment rate  Homicide rate  \\\n",
       "Country                                                                        \n",
       "Australia                              14.02             72.0            0.8   \n",
       "Austria                                 7.61             72.0            0.4   \n",
       "Belgium                                 4.57             62.0            1.1   \n",
       "Brazil                                 10.41             67.0           25.5   \n",
       "Canada                                  3.94             72.0            1.5   \n",
       "\n",
       "           Household net adjusted disposable income  \\\n",
       "Country                                               \n",
       "Australia                                   31588.0   \n",
       "Austria                                     31173.0   \n",
       "Belgium                                     28307.0   \n",
       "Brazil                                      11664.0   \n",
       "Canada                                      29365.0   \n",
       "\n",
       "           Household net financial wealth  ...  \\\n",
       "Country                                    ...   \n",
       "Australia                         47657.0  ...   \n",
       "Austria                           49887.0  ...   \n",
       "Belgium                           83876.0  ...   \n",
       "Brazil                             6844.0  ...   \n",
       "Canada                            67913.0  ...   \n",
       "\n",
       "           Time devoted to leisure and personal care  Voter turnout  \\\n",
       "Country                                                               \n",
       "Australia                                      14.41           93.0   \n",
       "Austria                                        14.46           75.0   \n",
       "Belgium                                        15.71           89.0   \n",
       "Brazil                                         14.97           79.0   \n",
       "Canada                                         14.25           61.0   \n",
       "\n",
       "           Water quality  Years in education  \\\n",
       "Country                                        \n",
       "Australia           91.0                19.4   \n",
       "Austria             94.0                17.0   \n",
       "Belgium             87.0                18.9   \n",
       "Brazil              72.0                16.3   \n",
       "Canada              91.0                17.2   \n",
       "\n",
       "                                          Subject Descriptor         Units  \\\n",
       "Country                                                                      \n",
       "Australia  Gross domestic product per capita, current prices  U.S. dollars   \n",
       "Austria    Gross domestic product per capita, current prices  U.S. dollars   \n",
       "Belgium    Gross domestic product per capita, current prices  U.S. dollars   \n",
       "Brazil     Gross domestic product per capita, current prices  U.S. dollars   \n",
       "Canada     Gross domestic product per capita, current prices  U.S. dollars   \n",
       "\n",
       "           Scale                      Country/Series-specific Notes  \\\n",
       "Country                                                               \n",
       "Australia  Units  See notes for:  Gross domestic product, curren...   \n",
       "Austria    Units  See notes for:  Gross domestic product, curren...   \n",
       "Belgium    Units  See notes for:  Gross domestic product, curren...   \n",
       "Brazil     Units  See notes for:  Gross domestic product, curren...   \n",
       "Canada     Units  See notes for:  Gross domestic product, curren...   \n",
       "\n",
       "           gdp per capita  Estimates Start After  \n",
       "Country                                           \n",
       "Australia       50961.865                 2014.0  \n",
       "Austria         43724.031                 2015.0  \n",
       "Belgium         40106.632                 2014.0  \n",
       "Brazil           8669.998                 2014.0  \n",
       "Canada          43331.961                 2015.0  \n",
       "\n",
       "[5 rows x 30 columns]"
      ],
      "text/html": "<div>\n<style scoped>\n    .dataframe tbody tr th:only-of-type {\n        vertical-align: middle;\n    }\n\n    .dataframe tbody tr th {\n        vertical-align: top;\n    }\n\n    .dataframe thead th {\n        text-align: right;\n    }\n</style>\n<table border=\"1\" class=\"dataframe\">\n  <thead>\n    <tr style=\"text-align: right;\">\n      <th></th>\n      <th>Air pollution</th>\n      <th>Assault rate</th>\n      <th>Consultation on rule-making</th>\n      <th>Dwellings without basic facilities</th>\n      <th>Educational attainment</th>\n      <th>Employees working very long hours</th>\n      <th>Employment rate</th>\n      <th>Homicide rate</th>\n      <th>Household net adjusted disposable income</th>\n      <th>Household net financial wealth</th>\n      <th>...</th>\n      <th>Time devoted to leisure and personal care</th>\n      <th>Voter turnout</th>\n      <th>Water quality</th>\n      <th>Years in education</th>\n      <th>Subject Descriptor</th>\n      <th>Units</th>\n      <th>Scale</th>\n      <th>Country/Series-specific Notes</th>\n      <th>gdp per capita</th>\n      <th>Estimates Start After</th>\n    </tr>\n    <tr>\n      <th>Country</th>\n      <th></th>\n      <th></th>\n      <th></th>\n      <th></th>\n      <th></th>\n      <th></th>\n      <th></th>\n      <th></th>\n      <th></th>\n      <th></th>\n      <th></th>\n      <th></th>\n      <th></th>\n      <th></th>\n      <th></th>\n      <th></th>\n      <th></th>\n      <th></th>\n      <th></th>\n      <th></th>\n      <th></th>\n    </tr>\n  </thead>\n  <tbody>\n    <tr>\n      <th>Australia</th>\n      <td>13.0</td>\n      <td>2.1</td>\n      <td>10.5</td>\n      <td>1.1</td>\n      <td>76.0</td>\n      <td>14.02</td>\n      <td>72.0</td>\n      <td>0.8</td>\n      <td>31588.0</td>\n      <td>47657.0</td>\n      <td>...</td>\n      <td>14.41</td>\n      <td>93.0</td>\n      <td>91.0</td>\n      <td>19.4</td>\n      <td>Gross domestic product per capita, current prices</td>\n      <td>U.S. dollars</td>\n      <td>Units</td>\n      <td>See notes for:  Gross domestic product, curren...</td>\n      <td>50961.865</td>\n      <td>2014.0</td>\n    </tr>\n    <tr>\n      <th>Austria</th>\n      <td>27.0</td>\n      <td>3.4</td>\n      <td>7.1</td>\n      <td>1.0</td>\n      <td>83.0</td>\n      <td>7.61</td>\n      <td>72.0</td>\n      <td>0.4</td>\n      <td>31173.0</td>\n      <td>49887.0</td>\n      <td>...</td>\n      <td>14.46</td>\n      <td>75.0</td>\n      <td>94.0</td>\n      <td>17.0</td>\n      <td>Gross domestic product per capita, current prices</td>\n      <td>U.S. dollars</td>\n      <td>Units</td>\n      <td>See notes for:  Gross domestic product, curren...</td>\n      <td>43724.031</td>\n      <td>2015.0</td>\n    </tr>\n    <tr>\n      <th>Belgium</th>\n      <td>21.0</td>\n      <td>6.6</td>\n      <td>4.5</td>\n      <td>2.0</td>\n      <td>72.0</td>\n      <td>4.57</td>\n      <td>62.0</td>\n      <td>1.1</td>\n      <td>28307.0</td>\n      <td>83876.0</td>\n      <td>...</td>\n      <td>15.71</td>\n      <td>89.0</td>\n      <td>87.0</td>\n      <td>18.9</td>\n      <td>Gross domestic product per capita, current prices</td>\n      <td>U.S. dollars</td>\n      <td>Units</td>\n      <td>See notes for:  Gross domestic product, curren...</td>\n      <td>40106.632</td>\n      <td>2014.0</td>\n    </tr>\n    <tr>\n      <th>Brazil</th>\n      <td>18.0</td>\n      <td>7.9</td>\n      <td>4.0</td>\n      <td>6.7</td>\n      <td>45.0</td>\n      <td>10.41</td>\n      <td>67.0</td>\n      <td>25.5</td>\n      <td>11664.0</td>\n      <td>6844.0</td>\n      <td>...</td>\n      <td>14.97</td>\n      <td>79.0</td>\n      <td>72.0</td>\n      <td>16.3</td>\n      <td>Gross domestic product per capita, current prices</td>\n      <td>U.S. dollars</td>\n      <td>Units</td>\n      <td>See notes for:  Gross domestic product, curren...</td>\n      <td>8669.998</td>\n      <td>2014.0</td>\n    </tr>\n    <tr>\n      <th>Canada</th>\n      <td>15.0</td>\n      <td>1.3</td>\n      <td>10.5</td>\n      <td>0.2</td>\n      <td>89.0</td>\n      <td>3.94</td>\n      <td>72.0</td>\n      <td>1.5</td>\n      <td>29365.0</td>\n      <td>67913.0</td>\n      <td>...</td>\n      <td>14.25</td>\n      <td>61.0</td>\n      <td>91.0</td>\n      <td>17.2</td>\n      <td>Gross domestic product per capita, current prices</td>\n      <td>U.S. dollars</td>\n      <td>Units</td>\n      <td>See notes for:  Gross domestic product, curren...</td>\n      <td>43331.961</td>\n      <td>2015.0</td>\n    </tr>\n  </tbody>\n</table>\n<p>5 rows × 30 columns</p>\n</div>"
     },
     "metadata": {},
     "execution_count": 39
    }
   ],
   "source": [
    "full_country_stats = pd.merge(left=oecd, right=gdp, left_index=True, right_index=True)\n",
    "full_country_stats.head()"
   ]
  },
  {
   "cell_type": "code",
   "execution_count": 41,
   "metadata": {},
   "outputs": [],
   "source": [
    "# 按照gdp per capita排序\n",
    "full_country_stats.sort_values(by=\"gdp per capita\", inplace=True)\n"
   ]
  },
  {
   "cell_type": "code",
   "execution_count": 42,
   "metadata": {},
   "outputs": [
    {
     "output_type": "execute_result",
     "data": {
      "text/plain": [
       "         Air pollution  Assault rate  Consultation on rule-making  \\\n",
       "Country                                                             \n",
       "Brazil            18.0           7.9                          4.0   \n",
       "Mexico            30.0          12.8                          9.0   \n",
       "Russia            15.0           3.8                          2.5   \n",
       "Turkey            35.0           5.0                          5.5   \n",
       "Hungary           15.0           3.6                          7.9   \n",
       "\n",
       "         Dwellings without basic facilities  Educational attainment  \\\n",
       "Country                                                               \n",
       "Brazil                                  6.7                    45.0   \n",
       "Mexico                                  4.2                    37.0   \n",
       "Russia                                 15.1                    94.0   \n",
       "Turkey                                 12.7                    34.0   \n",
       "Hungary                                 4.8                    82.0   \n",
       "\n",
       "         Employees working very long hours  Employment rate  Homicide rate  \\\n",
       "Country                                                                      \n",
       "Brazil                               10.41             67.0           25.5   \n",
       "Mexico                               28.83             61.0           23.4   \n",
       "Russia                                0.16             69.0           12.8   \n",
       "Turkey                               40.86             50.0            1.2   \n",
       "Hungary                               3.19             58.0            1.3   \n",
       "\n",
       "         Household net adjusted disposable income  \\\n",
       "Country                                             \n",
       "Brazil                                    11664.0   \n",
       "Mexico                                    13085.0   \n",
       "Russia                                    19292.0   \n",
       "Turkey                                    14095.0   \n",
       "Hungary                                   15442.0   \n",
       "\n",
       "         Household net financial wealth  ...  \\\n",
       "Country                                  ...   \n",
       "Brazil                           6844.0  ...   \n",
       "Mexico                           9056.0  ...   \n",
       "Russia                           3412.0  ...   \n",
       "Turkey                           3251.0  ...   \n",
       "Hungary                         13277.0  ...   \n",
       "\n",
       "         Time devoted to leisure and personal care  Voter turnout  \\\n",
       "Country                                                             \n",
       "Brazil                                       14.97           79.0   \n",
       "Mexico                                       13.89           63.0   \n",
       "Russia                                       14.97           65.0   \n",
       "Turkey                                       13.42           88.0   \n",
       "Hungary                                      15.04           62.0   \n",
       "\n",
       "         Water quality  Years in education  \\\n",
       "Country                                      \n",
       "Brazil            72.0                16.3   \n",
       "Mexico            67.0                14.4   \n",
       "Russia            56.0                16.0   \n",
       "Turkey            62.0                16.4   \n",
       "Hungary           77.0                17.6   \n",
       "\n",
       "                                        Subject Descriptor         Units  \\\n",
       "Country                                                                    \n",
       "Brazil   Gross domestic product per capita, current prices  U.S. dollars   \n",
       "Mexico   Gross domestic product per capita, current prices  U.S. dollars   \n",
       "Russia   Gross domestic product per capita, current prices  U.S. dollars   \n",
       "Turkey   Gross domestic product per capita, current prices  U.S. dollars   \n",
       "Hungary  Gross domestic product per capita, current prices  U.S. dollars   \n",
       "\n",
       "         Scale                      Country/Series-specific Notes  \\\n",
       "Country                                                             \n",
       "Brazil   Units  See notes for:  Gross domestic product, curren...   \n",
       "Mexico   Units  See notes for:  Gross domestic product, curren...   \n",
       "Russia   Units  See notes for:  Gross domestic product, curren...   \n",
       "Turkey   Units  See notes for:  Gross domestic product, curren...   \n",
       "Hungary  Units  See notes for:  Gross domestic product, curren...   \n",
       "\n",
       "         gdp per capita  Estimates Start After  \n",
       "Country                                         \n",
       "Brazil         8669.998                 2014.0  \n",
       "Mexico         9009.280                 2015.0  \n",
       "Russia         9054.914                 2015.0  \n",
       "Turkey         9437.372                 2013.0  \n",
       "Hungary       12239.894                 2015.0  \n",
       "\n",
       "[5 rows x 30 columns]"
      ],
      "text/html": "<div>\n<style scoped>\n    .dataframe tbody tr th:only-of-type {\n        vertical-align: middle;\n    }\n\n    .dataframe tbody tr th {\n        vertical-align: top;\n    }\n\n    .dataframe thead th {\n        text-align: right;\n    }\n</style>\n<table border=\"1\" class=\"dataframe\">\n  <thead>\n    <tr style=\"text-align: right;\">\n      <th></th>\n      <th>Air pollution</th>\n      <th>Assault rate</th>\n      <th>Consultation on rule-making</th>\n      <th>Dwellings without basic facilities</th>\n      <th>Educational attainment</th>\n      <th>Employees working very long hours</th>\n      <th>Employment rate</th>\n      <th>Homicide rate</th>\n      <th>Household net adjusted disposable income</th>\n      <th>Household net financial wealth</th>\n      <th>...</th>\n      <th>Time devoted to leisure and personal care</th>\n      <th>Voter turnout</th>\n      <th>Water quality</th>\n      <th>Years in education</th>\n      <th>Subject Descriptor</th>\n      <th>Units</th>\n      <th>Scale</th>\n      <th>Country/Series-specific Notes</th>\n      <th>gdp per capita</th>\n      <th>Estimates Start After</th>\n    </tr>\n    <tr>\n      <th>Country</th>\n      <th></th>\n      <th></th>\n      <th></th>\n      <th></th>\n      <th></th>\n      <th></th>\n      <th></th>\n      <th></th>\n      <th></th>\n      <th></th>\n      <th></th>\n      <th></th>\n      <th></th>\n      <th></th>\n      <th></th>\n      <th></th>\n      <th></th>\n      <th></th>\n      <th></th>\n      <th></th>\n      <th></th>\n    </tr>\n  </thead>\n  <tbody>\n    <tr>\n      <th>Brazil</th>\n      <td>18.0</td>\n      <td>7.9</td>\n      <td>4.0</td>\n      <td>6.7</td>\n      <td>45.0</td>\n      <td>10.41</td>\n      <td>67.0</td>\n      <td>25.5</td>\n      <td>11664.0</td>\n      <td>6844.0</td>\n      <td>...</td>\n      <td>14.97</td>\n      <td>79.0</td>\n      <td>72.0</td>\n      <td>16.3</td>\n      <td>Gross domestic product per capita, current prices</td>\n      <td>U.S. dollars</td>\n      <td>Units</td>\n      <td>See notes for:  Gross domestic product, curren...</td>\n      <td>8669.998</td>\n      <td>2014.0</td>\n    </tr>\n    <tr>\n      <th>Mexico</th>\n      <td>30.0</td>\n      <td>12.8</td>\n      <td>9.0</td>\n      <td>4.2</td>\n      <td>37.0</td>\n      <td>28.83</td>\n      <td>61.0</td>\n      <td>23.4</td>\n      <td>13085.0</td>\n      <td>9056.0</td>\n      <td>...</td>\n      <td>13.89</td>\n      <td>63.0</td>\n      <td>67.0</td>\n      <td>14.4</td>\n      <td>Gross domestic product per capita, current prices</td>\n      <td>U.S. dollars</td>\n      <td>Units</td>\n      <td>See notes for:  Gross domestic product, curren...</td>\n      <td>9009.280</td>\n      <td>2015.0</td>\n    </tr>\n    <tr>\n      <th>Russia</th>\n      <td>15.0</td>\n      <td>3.8</td>\n      <td>2.5</td>\n      <td>15.1</td>\n      <td>94.0</td>\n      <td>0.16</td>\n      <td>69.0</td>\n      <td>12.8</td>\n      <td>19292.0</td>\n      <td>3412.0</td>\n      <td>...</td>\n      <td>14.97</td>\n      <td>65.0</td>\n      <td>56.0</td>\n      <td>16.0</td>\n      <td>Gross domestic product per capita, current prices</td>\n      <td>U.S. dollars</td>\n      <td>Units</td>\n      <td>See notes for:  Gross domestic product, curren...</td>\n      <td>9054.914</td>\n      <td>2015.0</td>\n    </tr>\n    <tr>\n      <th>Turkey</th>\n      <td>35.0</td>\n      <td>5.0</td>\n      <td>5.5</td>\n      <td>12.7</td>\n      <td>34.0</td>\n      <td>40.86</td>\n      <td>50.0</td>\n      <td>1.2</td>\n      <td>14095.0</td>\n      <td>3251.0</td>\n      <td>...</td>\n      <td>13.42</td>\n      <td>88.0</td>\n      <td>62.0</td>\n      <td>16.4</td>\n      <td>Gross domestic product per capita, current prices</td>\n      <td>U.S. dollars</td>\n      <td>Units</td>\n      <td>See notes for:  Gross domestic product, curren...</td>\n      <td>9437.372</td>\n      <td>2013.0</td>\n    </tr>\n    <tr>\n      <th>Hungary</th>\n      <td>15.0</td>\n      <td>3.6</td>\n      <td>7.9</td>\n      <td>4.8</td>\n      <td>82.0</td>\n      <td>3.19</td>\n      <td>58.0</td>\n      <td>1.3</td>\n      <td>15442.0</td>\n      <td>13277.0</td>\n      <td>...</td>\n      <td>15.04</td>\n      <td>62.0</td>\n      <td>77.0</td>\n      <td>17.6</td>\n      <td>Gross domestic product per capita, current prices</td>\n      <td>U.S. dollars</td>\n      <td>Units</td>\n      <td>See notes for:  Gross domestic product, curren...</td>\n      <td>12239.894</td>\n      <td>2015.0</td>\n    </tr>\n  </tbody>\n</table>\n<p>5 rows × 30 columns</p>\n</div>"
     },
     "metadata": {},
     "execution_count": 42
    }
   ],
   "source": [
    "full_country_stats.head()"
   ]
  },
  {
   "cell_type": "code",
   "execution_count": 43,
   "metadata": {},
   "outputs": [
    {
     "output_type": "stream",
     "name": "stdout",
     "text": [
      "<class 'pandas.core.frame.DataFrame'>\nIndex: 36 entries, Brazil to Luxembourg\nData columns (total 30 columns):\n #   Column                                     Non-Null Count  Dtype  \n---  ------                                     --------------  -----  \n 0   Air pollution                              36 non-null     float64\n 1   Assault rate                               36 non-null     float64\n 2   Consultation on rule-making                36 non-null     float64\n 3   Dwellings without basic facilities         36 non-null     float64\n 4   Educational attainment                     36 non-null     float64\n 5   Employees working very long hours          36 non-null     float64\n 6   Employment rate                            36 non-null     float64\n 7   Homicide rate                              36 non-null     float64\n 8   Household net adjusted disposable income   36 non-null     float64\n 9   Household net financial wealth             36 non-null     float64\n 10  Housing expenditure                        36 non-null     float64\n 11  Job security                               36 non-null     float64\n 12  Life expectancy                            36 non-null     float64\n 13  Life satisfaction                          36 non-null     float64\n 14  Long-term unemployment rate                36 non-null     float64\n 15  Personal earnings                          36 non-null     float64\n 16  Quality of support network                 36 non-null     float64\n 17  Rooms per person                           36 non-null     float64\n 18  Self-reported health                       36 non-null     float64\n 19  Student skills                             36 non-null     float64\n 20  Time devoted to leisure and personal care  36 non-null     float64\n 21  Voter turnout                              36 non-null     float64\n 22  Water quality                              36 non-null     float64\n 23  Years in education                         36 non-null     float64\n 24  Subject Descriptor                         36 non-null     object \n 25  Units                                      36 non-null     object \n 26  Scale                                      36 non-null     object \n 27  Country/Series-specific Notes              36 non-null     object \n 28  gdp per capita                             36 non-null     float64\n 29  Estimates Start After                      36 non-null     float64\ndtypes: float64(26), object(4)\nmemory usage: 10.0+ KB\n"
     ]
    }
   ],
   "source": [
    "full_country_stats.info()"
   ]
  },
  {
   "cell_type": "code",
   "execution_count": 44,
   "metadata": {},
   "outputs": [
    {
     "output_type": "execute_result",
     "data": {
      "text/plain": [
       "         gdp per capita  Life satisfaction\n",
       "Country                                   \n",
       "Brazil         8669.998                7.0\n",
       "Mexico         9009.280                6.7\n",
       "Russia         9054.914                6.0\n",
       "Turkey         9437.372                5.6\n",
       "Hungary       12239.894                4.9"
      ],
      "text/html": "<div>\n<style scoped>\n    .dataframe tbody tr th:only-of-type {\n        vertical-align: middle;\n    }\n\n    .dataframe tbody tr th {\n        vertical-align: top;\n    }\n\n    .dataframe thead th {\n        text-align: right;\n    }\n</style>\n<table border=\"1\" class=\"dataframe\">\n  <thead>\n    <tr style=\"text-align: right;\">\n      <th></th>\n      <th>gdp per capita</th>\n      <th>Life satisfaction</th>\n    </tr>\n    <tr>\n      <th>Country</th>\n      <th></th>\n      <th></th>\n    </tr>\n  </thead>\n  <tbody>\n    <tr>\n      <th>Brazil</th>\n      <td>8669.998</td>\n      <td>7.0</td>\n    </tr>\n    <tr>\n      <th>Mexico</th>\n      <td>9009.280</td>\n      <td>6.7</td>\n    </tr>\n    <tr>\n      <th>Russia</th>\n      <td>9054.914</td>\n      <td>6.0</td>\n    </tr>\n    <tr>\n      <th>Turkey</th>\n      <td>9437.372</td>\n      <td>5.6</td>\n    </tr>\n    <tr>\n      <th>Hungary</th>\n      <td>12239.894</td>\n      <td>4.9</td>\n    </tr>\n  </tbody>\n</table>\n</div>"
     },
     "metadata": {},
     "execution_count": 44
    }
   ],
   "source": [
    "country_stats = full_country_stats[[\"gdp per capita\", \"Life satisfaction\"]]\n",
    "country_stats.head()"
   ]
  },
  {
   "source": [
    "# 画图"
   ],
   "cell_type": "markdown",
   "metadata": {}
  },
  {
   "cell_type": "code",
   "execution_count": 3,
   "metadata": {},
   "outputs": [
    {
     "output_type": "error",
     "ename": "NameError",
     "evalue": "name 'country_stats' is not defined",
     "traceback": [
      "\u001b[1;31m---------------------------------------------------------------------------\u001b[0m",
      "\u001b[1;31mNameError\u001b[0m                                 Traceback (most recent call last)",
      "\u001b[1;32m<ipython-input-3-7ec0fdc0c8d1>\u001b[0m in \u001b[0;36m<module>\u001b[1;34m\u001b[0m\n\u001b[1;32m----> 1\u001b[1;33m \u001b[0mcountry_stats\u001b[0m\u001b[1;33m.\u001b[0m\u001b[0mplot\u001b[0m\u001b[1;33m(\u001b[0m\u001b[0mkind\u001b[0m\u001b[1;33m=\u001b[0m\u001b[1;34m\"scatter\"\u001b[0m\u001b[1;33m,\u001b[0m \u001b[0mx\u001b[0m\u001b[1;33m=\u001b[0m\u001b[1;34m\"gdp per capita\"\u001b[0m\u001b[1;33m,\u001b[0m \u001b[0my\u001b[0m\u001b[1;33m=\u001b[0m\u001b[1;34m\"Life satisfaction\"\u001b[0m\u001b[1;33m)\u001b[0m\u001b[1;33m\u001b[0m\u001b[1;33m\u001b[0m\u001b[0m\n\u001b[0m",
      "\u001b[1;31mNameError\u001b[0m: name 'country_stats' is not defined"
     ]
    }
   ],
   "source": [
    "country_stats.plot(kind=\"scatter\", x=\"gdp per capita\", y=\"Life satisfaction\")"
   ]
  },
  {
   "cell_type": "code",
   "execution_count": 4,
   "metadata": {},
   "outputs": [
    {
     "output_type": "error",
     "ename": "NameError",
     "evalue": "name 'country_stats' is not defined",
     "traceback": [
      "\u001b[1;31m---------------------------------------------------------------------------\u001b[0m",
      "\u001b[1;31mNameError\u001b[0m                                 Traceback (most recent call last)",
      "\u001b[1;32m<ipython-input-4-fc959232602b>\u001b[0m in \u001b[0;36m<module>\u001b[1;34m\u001b[0m\n\u001b[1;32m----> 1\u001b[1;33m \u001b[0mcountry_stats\u001b[0m\u001b[1;33m.\u001b[0m\u001b[0mto_csv\u001b[0m\u001b[1;33m(\u001b[0m\u001b[1;34m\"country_stats.csv\"\u001b[0m\u001b[1;33m)\u001b[0m\u001b[1;33m\u001b[0m\u001b[1;33m\u001b[0m\u001b[0m\n\u001b[0m",
      "\u001b[1;31mNameError\u001b[0m: name 'country_stats' is not defined"
     ]
    }
   ],
   "source": [
    "country_stats.to_csv(\"country_stats.csv\")"
   ]
  },
  {
   "cell_type": "code",
   "execution_count": null,
   "metadata": {},
   "outputs": [],
   "source": []
  }
 ]
}